{
  "cells": [
    {
      "cell_type": "markdown",
      "source": [
        "## **Forward Propagation?**\n",
        "\n",
        "Forward propagation is the process of **feeding inputs through the network** to get an output.\n",
        "It’s just applying the perceptron formula step-by-step:\n",
        "\n",
        "1. **Take inputs** $x$\n",
        "2. **Multiply by weights** $w$\n",
        "3. **Add bias** $b$\n",
        "4. **Apply activation function** $f(z)$\n",
        "5. **Return output** $y$\n",
        "\n",
        "Mathematically for one neuron:\n",
        "\n",
        "$$\n",
        "z = w \\cdot x + b\n",
        "$$\n",
        "\n",
        "$$\n",
        "y = f(z)\n",
        "$$\n",
        "\n",
        "---\n",
        "\n",
        "## **2. For a Single-Layer Perceptron**\n",
        "\n",
        "We have:\n",
        "\n",
        "* **Input layer**: Features $x_1, x_2, \\dots, x_n$\n",
        "* **Output layer**: 1 neuron with a step/sigmoid/ReLU function\n",
        "\n",
        "Forward pass is **just** the weighted sum → activation.\n",
        "\n",
        "---\n",
        "\n",
        "## **3. Step-by-Step Example**\n",
        "\n",
        "Let’s manually compute forward pass for one sample.\n",
        "\n",
        "### Data\n",
        "\n",
        "```\n",
        "Inputs: x1 = 2, x2 = 3\n",
        "Weights: w1 = 0.5, w2 = -0.2\n",
        "Bias: b = 0.1\n",
        "Activation: Step function\n",
        "```\n",
        "\n",
        "**Step 1:** Weighted sum:\n",
        "\n",
        "$$\n",
        "z = (2 \\times 0.5) + (3 \\times -0.2) + 0.1\n",
        "$$\n",
        "\n",
        "$$\n",
        "z = 1.0 - 0.6 + 0.1 = 0.5\n",
        "$$\n",
        "\n",
        "**Step 2:** Step function:\n",
        "\n",
        "$$\n",
        "y = 1 \\ \\ (\\text{since } z \\ge 0)\n",
        "$$\n",
        "\n",
        "So prediction = **Class 1**.\n",
        "\n",
        "## **4. Forward Prop in Multi-Layer**\n",
        "\n",
        "For multiple layers, forward propagation repeats:\n",
        "\n",
        "1. Input → Layer 1 → Activation → Output (hidden layer)\n",
        "2. Hidden output → Layer 2 → Activation → Output (final prediction)\n",
        "\n",
        "We chain:\n",
        "\n",
        "$$\n",
        "a^{(1)} = f(W^{(1)}x + b^{(1)})\n",
        "$$\n",
        "\n",
        "$$\n",
        "a^{(2)} = f(W^{(2)}a^{(1)} + b^{(2)})\n",
        "$$\n",
        "\n",
        "and so on."
      ],
      "metadata": {
        "id": "hp26SOTx1ugF"
      }
    },
    {
      "cell_type": "code",
      "source": [
        "import numpy as np\n",
        "\n",
        "# Activation function\n",
        "def step_function(z):\n",
        "    return np.where(z >= 0, 1, 0)\n",
        "\n",
        "# Forward propagation for one sample\n",
        "def forward_one(x, weights, bias):\n",
        "    z = np.dot(x, weights) + bias  # weighted sum\n",
        "    y = step_function(z)           # activation\n",
        "    return y\n",
        "\n",
        "# Forward propagation for batch\n",
        "def forward_batch(X, weights, bias):\n",
        "    z = np.dot(X, weights) + bias\n",
        "    y = step_function(z)\n",
        "    return y\n",
        "\n",
        "# Example\n",
        "weights = np.array([0.5, -0.2])\n",
        "bias = 0.1\n",
        "\n",
        "# One sample\n",
        "x_single = np.array([2, 3])\n",
        "print(\"Forward (one sample):\", forward_one(x_single, weights, bias))\n",
        "\n",
        "# Batch of samples\n",
        "X_batch = np.array([[2, 3],\n",
        "                    [1, 1],\n",
        "                    [4, 5]])\n",
        "print(\"Forward (batch):\", forward_batch(X_batch, weights, bias))"
      ],
      "metadata": {
        "colab": {
          "base_uri": "https://localhost:8080/"
        },
        "id": "CvcWyBt6189l",
        "outputId": "b6c7c52a-bf77-4938-d38d-b41f8ec29787"
      },
      "execution_count": 20,
      "outputs": [
        {
          "output_type": "stream",
          "name": "stdout",
          "text": [
            "Forward (one sample): 1\n",
            "Forward (batch): [1 1 1]\n"
          ]
        }
      ]
    },
    {
      "cell_type": "code",
      "source": [],
      "metadata": {
        "id": "8LPaiW-219ux"
      },
      "execution_count": null,
      "outputs": []
    }
  ],
  "metadata": {
    "colab": {
      "provenance": []
    },
    "kernelspec": {
      "display_name": "Python 3",
      "name": "python3"
    },
    "language_info": {
      "name": "python"
    }
  },
  "nbformat": 4,
  "nbformat_minor": 0
}